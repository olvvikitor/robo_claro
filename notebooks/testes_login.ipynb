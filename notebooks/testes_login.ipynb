{
 "cells": [
  {
   "cell_type": "code",
   "execution_count": null,
   "id": "717c4657",
   "metadata": {},
   "outputs": [],
   "source": [
    "from selenium import webdriver\n",
    "from selenium.webdriver.common.by import By\n",
    "from selenium.webdriver.chrome.options import Options\n",
    "from selenium.webdriver.support.ui import WebDriverWait\n",
    "from selenium.webdriver.support import expected_conditions as EC\n",
    "from selenium.webdriver import ActionChains\n",
    "from selenium.common.exceptions import NoSuchElementException, TimeoutException\n",
    "import time\n",
    "\n"
   ]
  },
  {
   "cell_type": "code",
   "execution_count": 9,
   "id": "7d5e025c",
   "metadata": {},
   "outputs": [],
   "source": [
    "options = Options()\n",
    "options.add_argument('--start-maximized')\n",
    "driver = webdriver.Chrome(options=options)\n",
    "driver.get('https://claro.qualtrics.com/Q/MyProjectsSection')\n"
   ]
  },
  {
   "cell_type": "code",
   "execution_count": 10,
   "id": "2264b624",
   "metadata": {},
   "outputs": [],
   "source": [
    "# Preenche login\n",
    "driver.find_element(By.ID, 'username').send_keys('93239859')\n",
    "driver.find_element(By.ID, 'password').send_keys('N1nh@*25')\n",
    "driver.find_element(By.ID, \"signOnButton\").click()"
   ]
  },
  {
   "cell_type": "code",
   "execution_count": 19,
   "id": "72e04584",
   "metadata": {},
   "outputs": [],
   "source": [
    "logado = False\n",
    "while not logado:\n",
    "    try:\n",
    "        elemento = WebDriverWait(driver, 5).until(EC.presence_of_element_located((By.ID, \"Projetos e programas\")))\n",
    "        logado = True\n",
    "    except:\n",
    "        pin = elemento = WebDriverWait(driver, 15).until(EC.presence_of_element_located((By.XPATH, \"/html/body/div/div/div[1]/div/div[2]/div[3]\")))\n",
    "        pin = pin.text.strip()  \n",
    "\n"
   ]
  },
  {
   "cell_type": "code",
   "execution_count": null,
   "id": "d52c1711",
   "metadata": {},
   "outputs": [],
   "source": [
    "driver.get('https://claro.qualtrics.com/reporting-dashboard/web/6616d90f5c152200082e2233/pages/Page_4bccad9e-f0d7-4265-8a8c-22b831245106/view')\n"
   ]
  },
  {
   "cell_type": "code",
   "execution_count": 40,
   "id": "bef86c81",
   "metadata": {},
   "outputs": [],
   "source": [
    "filtroEps = WebDriverWait(driver, 60).until(EC.presence_of_element_located((By.XPATH, '/html/body/div[1]/div[4]/main/div[2]/div[1]/div[1]/div[1]/div/div/div/ul/li[2]/span/span/span[2]/span[15]/span/div/div/div/div/div/div/div/div/div/span/button/span[2]')))\n",
    "filtroEps.click()\n",
    "TEL_CENTRO = 'sub0_23'\n",
    "TEL_TELEMATICA = 'sub0_24'\n",
    "TELEMATICA_FEIRADESATANA_DACO1 = 'sub0_25'\n",
    "\n",
    "telCentro = WebDriverWait(driver, 60).until(EC.presence_of_element_located((By.ID, TEL_CENTRO)))\n",
    "telCentro.click()\n",
    "\n",
    "telTelematica = WebDriverWait(driver, 60).until(EC.presence_of_element_located((By.ID, TEL_TELEMATICA)))\n",
    "telTelematica.click()\n",
    "telematicaFeiraDeSatanaDaco1 = WebDriverWait(driver, 60).until(EC.presence_of_element_located((By.ID, TELEMATICA_FEIRADESATANA_DACO1)))\n",
    "telematicaFeiraDeSatanaDaco1.click()\n",
    "\n"
   ]
  },
  {
   "cell_type": "code",
   "execution_count": 44,
   "id": "a6437c86",
   "metadata": {},
   "outputs": [],
   "source": [
    "filtroPeriodo = WebDriverWait(driver, 60).until(EC.presence_of_element_located((By.XPATH, '/html/body/div[1]/div[4]/main/div[2]/div[1]/div[1]/div[1]/div/div/div/ul/li[2]/span/span/span[2]/span[2]/span/div/div/span/button/span[2]')))\n",
    "filtroPeriodo.click()\n",
    "\n",
    "spanFiltro = WebDriverWait(driver, 60).until(EC.presence_of_element_located((By.XPATH, '/html/body/div[35]/div[2]/div/div/div[1]/div/div/div/div/div/div/button/span[2]')))\n",
    "spanFiltro.click()\n",
    "periodoUltimos7Dias = WebDriverWait(driver, 60).until(EC.presence_of_element_located((By.ID, 'sub0_10')))\n",
    "periodoUltimos7Dias.click()"
   ]
  },
  {
   "cell_type": "code",
   "execution_count": 64,
   "id": "00fceb42",
   "metadata": {},
   "outputs": [
    {
     "name": "stdout",
     "output_type": "stream",
     "text": [
      "✅ Botão encontrado e clicado na tentativa 1\n"
     ]
    }
   ],
   "source": [
    "xpath_btn = '/html/body/div[1]/div[4]/main/div[2]/div[2]/div/div/div/div/div/div[4]/div[1]/div/div/div[3]/div/ng-transclude/div/dashboards.core.layout-engine/div/div/div/div/div/div[14]/div/div/div/div/div/div/div[2]/div/div/div/div[1]/h3/div/div[2]/div/div/button/div[1]'\n",
    "\n",
    "found = False\n",
    "for i in range(50):\n",
    "    try:\n",
    "        element = driver.find_element(By.XPATH, xpath_btn)\n",
    "        driver.execute_script(\"arguments[0].scrollIntoView(true);\", element)\n",
    "\n",
    "        # Espera até estar clicável\n",
    "        element = WebDriverWait(driver, 5).until(\n",
    "            EC.element_to_be_clickable((By.XPATH, xpath_btn))\n",
    "        )\n",
    "\n",
    "        driver.execute_script(\"arguments[0].click();\", element)\n",
    "        found = True\n",
    "        print(f\"✅ Botão encontrado e clicado na tentativa {i+1}\")\n",
    "        break\n",
    "\n",
    "    except (NoSuchElementException, TimeoutException):\n",
    "        driver.execute_script(\"document.scrollingElement.scrollBy(0, 600);\")\n",
    "        print(f\"Tentativa {i+1}: botão não visível, descendo scroll...\")\n",
    "        time.sleep(1)\n",
    "\n",
    "if not found:\n",
    "    raise Exception(\"❌ Elemento não encontrado após 50 tentativas\")\n"
   ]
  }
 ],
 "metadata": {
  "kernelspec": {
   "display_name": ".venv",
   "language": "python",
   "name": "python3"
  },
  "language_info": {
   "codemirror_mode": {
    "name": "ipython",
    "version": 3
   },
   "file_extension": ".py",
   "mimetype": "text/x-python",
   "name": "python",
   "nbconvert_exporter": "python",
   "pygments_lexer": "ipython3",
   "version": "3.12.2"
  }
 },
 "nbformat": 4,
 "nbformat_minor": 5
}

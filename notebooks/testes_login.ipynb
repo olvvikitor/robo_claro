{
 "cells": [
  {
   "cell_type": "code",
   "execution_count": null,
   "id": "717c4657",
   "metadata": {},
   "outputs": [],
   "source": [
    "from selenium import webdriver\n",
    "from selenium.webdriver.common.by import By\n",
    "from selenium.webdriver.chrome.options import Options\n",
    "from selenium.webdriver.support.ui import WebDriverWait\n",
    "from selenium.webdriver.support import expected_conditions as EC\n",
    "from selenium.webdriver import ActionChains\n",
    "from selenium.common.exceptions import NoSuchElementException, TimeoutException\n",
    "from selenium.webdriver.common.keys import Keys\n",
    "import pandas as pd\n",
    "import time\n",
    "from datetime import date,timedelta\n",
    "import math\n",
    "\n",
    "\n",
    "\n",
    "\n"
   ]
  },
  {
   "cell_type": "code",
   "execution_count": 2,
   "id": "7d5e025c",
   "metadata": {},
   "outputs": [],
   "source": [
    "options = Options()\n",
    "options.add_argument('--start-maximized')\n",
    "driver = webdriver.Chrome(options=options)\n",
    "driver.get('https://claro.qualtrics.com/Q/MyProjectsSection')\n"
   ]
  },
  {
   "cell_type": "code",
   "execution_count": 3,
   "id": "2264b624",
   "metadata": {},
   "outputs": [],
   "source": [
    "# Preenche login\n",
    "driver.find_element(By.ID, 'username').send_keys('93239859')\n",
    "driver.find_element(By.ID, 'password').send_keys('N1nh@*25')\n",
    "driver.find_element(By.ID, \"signOnButton\").click()"
   ]
  },
  {
   "cell_type": "code",
   "execution_count": 4,
   "id": "72e04584",
   "metadata": {},
   "outputs": [],
   "source": [
    "logado = False\n",
    "while not logado:\n",
    "    try:\n",
    "        elemento = WebDriverWait(driver, 5).until(EC.presence_of_element_located((By.ID, \"Projetos e programas\")))\n",
    "        logado = True\n",
    "    except:\n",
    "        pin = elemento = WebDriverWait(driver, 15).until(EC.presence_of_element_located((By.XPATH, \"/html/body/div/div/div[1]/div/div[2]/div[3]\")))\n",
    "        pin = pin.text.strip()  \n",
    "\n"
   ]
  },
  {
   "cell_type": "code",
   "execution_count": 5,
   "id": "d52c1711",
   "metadata": {},
   "outputs": [],
   "source": [
    "driver.get('https://claro.qualtrics.com/reporting-dashboard/web/6616d90f5c152200082e2233/pages/Page_4bccad9e-f0d7-4265-8a8c-22b831245106/view')\n"
   ]
  },
  {
   "cell_type": "code",
   "execution_count": 6,
   "id": "bef86c81",
   "metadata": {},
   "outputs": [],
   "source": [
    "filtroEps = WebDriverWait(driver, 60).until(EC.presence_of_element_located((By.XPATH, '/html/body/div[1]/div[4]/main/div[2]/div[1]/div[1]/div[1]/div/div/div/ul/li[2]/span/span/span[2]/span[15]/span/div/div/div/div/div/div/div/div/div/span/button/span[2]')))\n",
    "filtroEps.click()\n",
    "\n",
    "\n",
    "tel_centro = WebDriverWait(driver, 60).until(\n",
    "    EC.element_to_be_clickable(\n",
    "        (By.XPATH, \"//a[contains(., 'TEL CENTRO')]\")\n",
    "    )\n",
    ")\n",
    "tel_centro.click()\n",
    "\n",
    "tel_telematica = WebDriverWait(driver, 60).until(\n",
    "    EC.element_to_be_clickable(\n",
    "        (By.XPATH, \"//a[contains(., 'TEL TELEMATICA')]\")\n",
    "    )\n",
    ")\n",
    "tel_telematica.click()\n",
    "\n",
    "tel_telematicadac01 = WebDriverWait(driver, 60).until(\n",
    "    EC.element_to_be_clickable(\n",
    "        (By.XPATH, \"//a[contains(., 'TELEMATICA|FEIRADESANTANA|DAC01')]\")\n",
    "    )\n",
    ")\n",
    "tel_telematicadac01.click()\n",
    "\n",
    "\n",
    "\n",
    "\n",
    "\n"
   ]
  },
  {
   "cell_type": "code",
   "execution_count": 7,
   "id": "8a8eea28",
   "metadata": {},
   "outputs": [],
   "source": [
    "overlay = WebDriverWait(driver, 10).until(\n",
    "    EC.element_to_be_clickable((By.TAG_NAME, \"h1\"))\n",
    ")\n",
    "overlay.click()\n"
   ]
  },
  {
   "cell_type": "code",
   "execution_count": 8,
   "id": "59db47f3",
   "metadata": {},
   "outputs": [],
   "source": [
    "data_atual = date.today()\n",
    "data_inicio = data_atual - timedelta(days=3)\n",
    "data_formatada = data_inicio.strftime('%d/%m/%Y')"
   ]
  },
  {
   "cell_type": "code",
   "execution_count": 9,
   "id": "a6437c86",
   "metadata": {},
   "outputs": [],
   "source": [
    "filtroPeriodo = WebDriverWait(driver, 60).until(EC.presence_of_element_located((By.XPATH, '/html/body/div[1]/div[4]/main/div[2]/div[1]/div[1]/div[1]/div/div/div/ul/li[2]/span/span/span[2]/span[2]/span/div/div/span/button/span[2]')))\n",
    "filtroPeriodo.click()\n",
    "\n",
    "botao_periodo = WebDriverWait(driver, 10).until(\n",
    "    EC.element_to_be_clickable(\n",
    "        (By.XPATH, \"//button[@aria-label='Data Resposta seleção Este mês']\")\n",
    "    )\n",
    ")\n",
    "botao_periodo.click()\n",
    "\n",
    "intervalo = WebDriverWait(driver, 60).until(EC.presence_of_element_located((By.ID, 'sub0_16')))\n",
    "intervalo.click()\n",
    "\n",
    "periodo = WebDriverWait(driver, 60).until(EC.presence_of_element_located((By.ID, 'filter-date-start')))\n",
    "periodo.clear()\n",
    "periodo.send_keys(data_formatada)\n",
    "\n"
   ]
  },
  {
   "cell_type": "code",
   "execution_count": 10,
   "id": "76a24097",
   "metadata": {},
   "outputs": [],
   "source": [
    "overlay = WebDriverWait(driver, 10).until(\n",
    "    EC.element_to_be_clickable((By.TAG_NAME, \"h1\"))\n",
    ")\n",
    "overlay.click()"
   ]
  },
  {
   "cell_type": "code",
   "execution_count": 11,
   "id": "00fceb42",
   "metadata": {},
   "outputs": [],
   "source": [
    "xpath_btn = '/html/body/div[1]/div[4]/main/div[2]/div[2]/div/div/div/div/div/div[4]/div[1]/div/div/div[3]/div/ng-transclude/div/dashboards.core.layout-engine/div/div/div/div/div/div[14]/div/div/div/div/div/div/div[2]/div/div/div/div[1]/h3/div/div[2]/div/div/button/div[1]'\n",
    "\n",
    "found = False\n",
    "for i in range(50):\n",
    "    try:\n",
    "        element = driver.find_element(By.XPATH, xpath_btn)\n",
    "        driver.execute_script(\"arguments[0].scrollIntoView(true);\", element)\n",
    "\n",
    "        # Espera até estar clicável\n",
    "        element = WebDriverWait(driver, 5).until(\n",
    "            EC.element_to_be_clickable((By.XPATH, xpath_btn))\n",
    "        )\n",
    "\n",
    "        driver.execute_script(\"arguments[0].click();\", element)\n",
    "        found = True\n",
    "        break\n",
    "\n",
    "    except (NoSuchElementException, TimeoutException):\n",
    "        driver.execute_script(\"document.scrollingElement.scrollBy(0, 600);\")\n",
    "        time.sleep(1)\n",
    "\n",
    "if not found:\n",
    "    raise Exception(\"❌ Elemento não encontrado após 50 tentativas\")\n"
   ]
  },
  {
   "cell_type": "code",
   "execution_count": 12,
   "id": "569637e1",
   "metadata": {},
   "outputs": [
    {
     "name": "stdout",
     "output_type": "stream",
     "text": [
      "32\n",
      "Quantidade de feedbacks: 32\n"
     ]
    }
   ],
   "source": [
    "# Espera todos os elementos\n",
    "respostas = WebDriverWait(driver, 60).until(\n",
    "    EC.presence_of_all_elements_located((By.XPATH, '/html/body/div[1]/div[5]/main/div[2]/div[2]/div/div/div/div/div/div[4]/div[1]/div/div/div[3]/div/ng-transclude/div/dashboards.core.layout-engine/div/div/div/div/div/div[14]/div/div/div/div/div/div/div[2]/div/div/div/div[1]/h3/div/div[2]/div/div/button/div[2]'))\n",
    ")# Extrai o texto de cada elemento\n",
    "qtd_feedback = 0\n",
    "for resposta in respostas:\n",
    "    print(resposta.text)\n",
    "    qtd_feedback = int(resposta.text)\n",
    "print(f\"Quantidade de feedbacks: {qtd_feedback}\")"
   ]
  },
  {
   "cell_type": "code",
   "execution_count": 16,
   "id": "7f17929e",
   "metadata": {},
   "outputs": [
    {
     "name": "stdout",
     "output_type": "stream",
     "text": [
      "Quantidade de loops: 8\n"
     ]
    }
   ],
   "source": [
    "qtdvar = math.ceil(qtd_feedback/4)\n",
    "print(f\"Quantidade de loops: {qtdvar}\")\n",
    "for numero in range(1, qtdvar + 2):\n",
    "    # Fecha o modal\n",
    "    clicar_div = WebDriverWait(driver, 10).until(\n",
    "        EC.element_to_be_clickable((By.XPATH, '//*[@id=\"body_Widget_9f0022ee-41ee-43b6-a0c4-c2fd2b527613\"]/div/div[2]/div/div/div/div[2]'))\n",
    "    )\n",
    "    clicar_div.click()\n",
    "\n",
    "    # Rola para baixo\n",
    "    clicar_div.send_keys(Keys.PAGE_DOWN)\n",
    "    time.sleep(3)\n",
    "\n"
   ]
  },
  {
   "cell_type": "code",
   "execution_count": 17,
   "id": "bac64cee",
   "metadata": {},
   "outputs": [],
   "source": [
    "for numero in range(1, qtdvar + 2):\n",
    "    # Fecha o modal\n",
    "    clicar_div = WebDriverWait(driver, 10).until(\n",
    "        EC.element_to_be_clickable((By.XPATH, '//*[@id=\"body_Widget_9f0022ee-41ee-43b6-a0c4-c2fd2b527613\"]/div/div[2]/div/div/div/div[2]'))\n",
    "    )\n",
    "    clicar_div.click()\n",
    "\n",
    "    # Rola para baixo\n",
    "    clicar_div.send_keys(Keys.PAGE_UP)\n",
    "    time.sleep(3)"
   ]
  },
  {
   "cell_type": "code",
   "execution_count": 18,
   "id": "15940fdb",
   "metadata": {},
   "outputs": [
    {
     "name": "stdout",
     "output_type": "stream",
     "text": [
      "Número: 5 | Label: Response: 1. 5. DAC. SAO PAULO. 19 minutes ago. O tempo para conseguir falar com um atendente é insuportável. É muita manobra para protelar o atendimento.\n",
      "Número: 10 | Label: Response: 2. 10. DAC. SAO PAULO. 2 hours ago. Atendimento excetente e rapid na solução \n",
      "Número: 0 | Label: Response: 3. DAC. BELO HORIZONTE. 3 hours ago. Desligou na minha cara.\n",
      "Número: 0 | Label: Response: 4. DAC. BELO HORIZONTE. 4 hours ago. demora muito . som pesssimo . \n",
      "Número: 6 | Label: Response: 5. 6. DAC. SAO PAULO. 4 hours ago. Me venderam internet dizendo que era fibra quando na verdade nao é, depois ligaram perguntando se queria mudar, vieram aqui e constataram que nao tem fibra no meu prédio e agora meu app clarotv+ nao está mais funcionando.\n",
      "Número: 10 | Label: Response: 6. 10. DAC. VITORIA. 5 hours ago\n",
      "Número: 1 | Label: Response: 7. 1. DAC. MARILIA. 6 hours ago. O atendimento mentiu sobre a falta de sinal deixando o meu estabelecimento por 2 dias sem internet e telefone. Além disso uma atendente ao tentar agendar o atendimento técnico desligou o telefone e não retornou a ligação. Além disso ficam oferendo upgrade no momento do problema. Péssimo!\n",
      "Número: 5 | Label: Response: 8. 5. DAC. SAO PAULO. 6 hours ago\n",
      "Número: 6 | Label: Response: 9. 6. DAC. RIO DE JANEIRO. a day ago\n",
      "Número: 2 | Label: Response: 10. 2. DAC. SOROCABA. a day ago\n",
      "Número: 8 | Label: Response: 11. 8. DAC. TERESINA. a day ago\n",
      "Número: 0 | Label: Response: 12. DAC. SANTO ANDRE. a day ago. Tudo o atendimento é praticamente um teatro com o intuito de cansar o máximo o consumidor usam de mentiras e protocolos que não existem caso vc for usar depois internet a pior de todas com upload travado \n",
      "Número: 0 | Label: Response: 13. DAC. SAO PAULO. a day ago. Não resolveram minha solicitação \n",
      "Número: 0 | Label: Response: 14. DAC. FLORIANOPOLIS. a day ago. Vários erros no processo de mudança de endereço, estou há dois dias no novo endereço e ainda não tenho a nova instalação.\n",
      "Número: 0 | Label: Response: 15. DAC. RIO DE JANEIRO. 2 days ago. Liguei fiquei mais de 25 minutos em ligação para não ter solução,  eu quero um cancelamento , fiz todas autenticações,  sms, para no final ser informado que houve erro no sistema da Claro que tudo foi perdido e que só posso pedir o cancelamento daqui a 3 dias, um horror , estou profundamente chateado e insatisfeito\n",
      "Número: 3 | Label: Response: 16. 3. DAC. MANAUS. 2 days ago\n",
      "Número: 10 | Label: Response: 17. 10. DAC. RECIFE. 2 days ago. Bom atendimento \n",
      "Número: 5 | Label: Response: 18. 5. DAC. CAPAO DA CANOA. 2 days ago. dificuldade de resolver o problema por telefone\n",
      "Número: 1 | Label: Response: 19. 1. DAC. PINDAMONHANGABA. 2 days ago. Estou tentando há tempos resolver o problema da falta de sinal da minha TV. primeira vez o plano foi cancelado erroneamente no sistema. Contratei novo plano por orientação da atendente. Agora, sem TV novamente e nem na central, nem no app ou site consigo marcar vista técnica e resolver a situação.\n",
      "Número: 0 | Label: Response: 20. DAC. SAO PAULO. 2 days ago. estou ha 27 horas sem internet e perdendo vendas\n",
      "Número: 10 | Label: Response: 21. 10. DAC. RIO DE JANEIRO. 2 days ago. Um bom atendimento por parte da pessoa que falou comigo; paciente, solícita educada.\n",
      "Número: 0 | Label: Response: 22. DAC. CUIABA. 2 days ago. SINAL SEMPRE OSCILANDO\n",
      "Número: 7 | Label: Response: 23. 7. DAC. SAO BERNARDO DO CAMPO. 2 days ago\n",
      "Número: 8 | Label: Response: 24. 8. DAC. RECIFE. 2 days ago. a demora no atendimento\n",
      "Número: 3 | Label: Response: 25. 3. DAC. RIO DE JANEIRO. 2 days ago. Desinformação, falta de conhecimento ao tratamento com o cliente.\n",
      "Número: 0 | Label: Response: 26. DAC. RIO DE JANEIRO. 2 days ago. A Claro não funciona! Liguei quatro vezes e as primeiras ligações depois de 20 minutos ao atendente não me ouvia e na quarta a pessoa me ouvia mas o sistema não abria \n",
      "Número: 0 | Label: Response: 27. DAC. PORTO ALEGRE. 3 days ago. A atendente não foi capaz de resolver minha solicitação como se não soubesse e não é a primeira vez que necessito de um atendimento e a um problema e os atendentes não sabem resolver. \n",
      "Número: 10 | Label: Response: 28. 10. DAC. FLORIANOPOLIS. 3 days ago. A boa atenção prestada\n",
      "Número: 6 | Label: Response: 29. 6. DAC. SERRA. 3 days ago. Muito defeito. Rede instável.  Teste de desligar roteador é ridículo.  Ja perdi a conta da quantidade de vezes que já fiz isto.\n",
      "Número: 10 | Label: Response: 30. 10. DAC. GOIANIA. 3 days ago\n",
      "Número: 6 | Label: Response: 31. 6. DAC. RIO DE JANEIRO. 3 days ago. dificuldade em falar diretamente com um funcionario capaz de dar resposta para o problema\n",
      "Número: 5 | Label: Response: 32. 5. DAC. SAO PAULO. 3 days ago\n"
     ]
    }
   ],
   "source": [
    "\n",
    "todos_dados = []  # cada item será um registro de uma resposta\n",
    "\n",
    "respostas = WebDriverWait(driver, 15).until(\n",
    "    EC.presence_of_all_elements_located((By.CSS_SELECTOR, \"div.styles__response___\\\\+0-OI\"))\n",
    ")\n",
    "qtd_extraidos = 0\n",
    "for resposta in respostas:\n",
    "    numero = resposta.find_element(By.CSS_SELECTOR, \"div.styles__ticker-content___vHHyl\").text.strip()\n",
    "    aria_label = resposta.get_attribute(\"aria-label\")\n",
    "    print(f\"Número: {numero} | Label: {aria_label}\")\n",
    "\n",
    "    try:\n",
    "        menu_btn = resposta.find_element(By.CSS_SELECTOR, \"button[aria-label='Menu']\")\n",
    "        WebDriverWait(driver, 5).until(EC.element_to_be_clickable(menu_btn))\n",
    "        driver.execute_script(\"arguments[0].scrollIntoView({block: 'center'});\", menu_btn)\n",
    "\n",
    "        driver.execute_script(\"arguments[0].click();\", menu_btn)\n",
    "\n",
    "        # Clica em \"Ver registo completo\"\n",
    "        ver_registro = WebDriverWait(driver, 10).until(\n",
    "            EC.element_to_be_clickable((By.XPATH, \"//span[text()='View full record' or text()='Ver registo completo']\"))\n",
    "        )\n",
    "        driver.execute_script(\"arguments[0].click();\", ver_registro)\n",
    "\n",
    "        # Espera o modal abrir\n",
    "        modal = WebDriverWait(driver, 10).until(\n",
    "            EC.presence_of_element_located((By.CSS_SELECTOR, \"div[role='dialog']\"))\n",
    "        )\n",
    "\n",
    "        # Busca o tbody interno relativo ao modal\n",
    "        tbody = WebDriverWait(driver, 10).until(\n",
    "            EC.presence_of_element_located(\n",
    "                (By.XPATH, \".//div[@role='dialog']//table/tbody/tr/td/table/tbody\")\n",
    "            )\n",
    "        )\n",
    "        rows = tbody.find_elements(By.TAG_NAME, \"tr\")\n",
    "        registro = {}  # aqui vamos montar o dict para esta resposta\n",
    "        for row in rows:\n",
    "            cells = row.find_elements(By.TAG_NAME, \"td\")\n",
    "            if len(cells) == 2:\n",
    "                campo = cells[0].text.strip()\n",
    "                valor = cells[1].text.strip()\n",
    "                registro[campo] = valor\n",
    "\n",
    "        # Adiciona também o número e label da resposta\n",
    "        registro[\"Número\"] = numero\n",
    "        registro[\"Label\"] = aria_label\n",
    "\n",
    "        todos_dados.append(registro)\n",
    "\n",
    "        # Fecha o modal\n",
    "        fechar_btn = WebDriverWait(driver, 10).until(\n",
    "            EC.element_to_be_clickable((By.XPATH, \"//button[normalize-space()='Fechar' or text()='×']\"))\n",
    "        )\n",
    "        fechar_btn.click()\n",
    "\n",
    "\n",
    "\n",
    "    except Exception as e:\n",
    "        print(f\"Não consegui processar a resposta {numero}: {e}\")\n"
   ]
  },
  {
   "cell_type": "code",
   "execution_count": 19,
   "id": "4a5fb40b",
   "metadata": {},
   "outputs": [
    {
     "name": "stdout",
     "output_type": "stream",
     "text": [
      "Arquivo 'respostas.xlsx' salvo com sucesso!\n"
     ]
    }
   ],
   "source": [
    "# Depois de processar todos os modais, monta o DataFrame\n",
    "df_final = pd.DataFrame(todos_dados)\n",
    "df_final.to_excel(\"respostas.xlsx\", index=False, engine='openpyxl')\n",
    "print(\"Arquivo 'respostas.xlsx' salvo com sucesso!\")"
   ]
  }
 ],
 "metadata": {
  "kernelspec": {
   "display_name": ".venv",
   "language": "python",
   "name": "python3"
  },
  "language_info": {
   "codemirror_mode": {
    "name": "ipython",
    "version": 3
   },
   "file_extension": ".py",
   "mimetype": "text/x-python",
   "name": "python",
   "nbconvert_exporter": "python",
   "pygments_lexer": "ipython3",
   "version": "3.12.2"
  }
 },
 "nbformat": 4,
 "nbformat_minor": 5
}

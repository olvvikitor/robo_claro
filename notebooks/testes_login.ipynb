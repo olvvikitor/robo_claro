{
 "cells": [
  {
   "cell_type": "code",
   "execution_count": null,
   "id": "717c4657",
   "metadata": {},
   "outputs": [],
   "source": [
    "from selenium import webdriver\n",
    "from selenium.webdriver.common.by import By\n",
    "from selenium.webdriver.chrome.options import Options\n",
    "from selenium.webdriver.support.ui import WebDriverWait\n",
    "from selenium.webdriver.support import expected_conditions as EC\n",
    "from selenium.webdriver import ActionChains\n",
    "from selenium.common.exceptions import NoSuchElementException, TimeoutException\n",
    "from selenium.webdriver.common.keys import Keys\n",
    "import pandas as pd\n",
    "\n",
    "\n",
    "import time\n",
    "\n"
   ]
  },
  {
   "cell_type": "code",
   "execution_count": 3,
   "id": "7d5e025c",
   "metadata": {},
   "outputs": [],
   "source": [
    "options = Options()\n",
    "options.add_argument('--start-maximized')\n",
    "driver = webdriver.Chrome(options=options)\n",
    "driver.get('https://claro.qualtrics.com/Q/MyProjectsSection')\n"
   ]
  },
  {
   "cell_type": "code",
   "execution_count": 4,
   "id": "2264b624",
   "metadata": {},
   "outputs": [],
   "source": [
    "# Preenche login\n",
    "driver.find_element(By.ID, 'username').send_keys('93239859')\n",
    "driver.find_element(By.ID, 'password').send_keys('N1nh@*25')\n",
    "driver.find_element(By.ID, \"signOnButton\").click()"
   ]
  },
  {
   "cell_type": "code",
   "execution_count": 5,
   "id": "72e04584",
   "metadata": {},
   "outputs": [],
   "source": [
    "logado = False\n",
    "while not logado:\n",
    "    try:\n",
    "        elemento = WebDriverWait(driver, 5).until(EC.presence_of_element_located((By.ID, \"Projetos e programas\")))\n",
    "        logado = True\n",
    "    except:\n",
    "        pin = elemento = WebDriverWait(driver, 15).until(EC.presence_of_element_located((By.XPATH, \"/html/body/div/div/div[1]/div/div[2]/div[3]\")))\n",
    "        pin = pin.text.strip()  \n",
    "\n"
   ]
  },
  {
   "cell_type": "code",
   "execution_count": 21,
   "id": "d52c1711",
   "metadata": {},
   "outputs": [],
   "source": [
    "driver.get('https://claro.qualtrics.com/reporting-dashboard/web/6616d90f5c152200082e2233/pages/Page_4bccad9e-f0d7-4265-8a8c-22b831245106/view')\n"
   ]
  },
  {
   "cell_type": "code",
   "execution_count": 35,
   "id": "bef86c81",
   "metadata": {},
   "outputs": [],
   "source": [
    "filtroEps = WebDriverWait(driver, 60).until(EC.presence_of_element_located((By.XPATH, '/html/body/div[1]/div[4]/main/div[2]/div[1]/div[1]/div[1]/div/div/div/ul/li[2]/span/span/span[2]/span[15]/span/div/div/div/div/div/div/div/div/div/span/button/span[2]')))\n",
    "filtroEps.click()\n",
    "TEL_CENTRO = 'sub0_23'\n",
    "TEL_TELEMATICA = 'sub0_24'\n",
    "TELEMATICA_FEIRADESATANA_DACO1 = 'sub0_25'\n",
    "\n",
    "tel_centro = WebDriverWait(driver, 60).until(\n",
    "    EC.element_to_be_clickable(\n",
    "        (By.XPATH, \"//a[contains(., 'TEL CENTRO')]\")\n",
    "    )\n",
    ")\n",
    "tel_centro.click()\n",
    "\n",
    "tel_telematica = WebDriverWait(driver, 60).until(\n",
    "    EC.element_to_be_clickable(\n",
    "        (By.XPATH, \"//a[contains(., 'TEL TELEMATICA')]\")\n",
    "    )\n",
    ")\n",
    "tel_telematica.click()\n",
    "\n",
    "tel_telematicadac01 = WebDriverWait(driver, 60).until(\n",
    "    EC.element_to_be_clickable(\n",
    "        (By.XPATH, \"//a[contains(., 'TELEMATICA|FEIRADESANTANA|DAC01')]\")\n",
    "    )\n",
    ")\n",
    "tel_telematicadac01.click()\n",
    "\n",
    "\n",
    "\n",
    "\n"
   ]
  },
  {
   "cell_type": "code",
   "execution_count": 49,
   "id": "a6437c86",
   "metadata": {},
   "outputs": [],
   "source": [
    "filtroPeriodo = WebDriverWait(driver, 60).until(EC.presence_of_element_located((By.XPATH, '/html/body/div[1]/div[4]/main/div[2]/div[1]/div[1]/div[1]/div/div/div/ul/li[2]/span/span/span[2]/span[2]/span/div/div/span/button/span[2]')))\n",
    "filtroPeriodo.click()\n",
    "\n",
    "botao_periodo = WebDriverWait(driver, 10).until(\n",
    "    EC.element_to_be_clickable(\n",
    "        (By.XPATH, \"//button[@aria-label='Data Resposta seleção Esta semana']\")\n",
    "    )\n",
    ")\n",
    "botao_periodo.click()\n",
    "\n",
    "periodoUltimos7Dias = WebDriverWait(driver, 60).until(EC.presence_of_element_located((By.ID, 'sub0_3')))\n",
    "\n",
    "periodoUltimos7Dias.click()\n"
   ]
  },
  {
   "cell_type": "code",
   "execution_count": 74,
   "id": "00fceb42",
   "metadata": {},
   "outputs": [],
   "source": [
    "xpath_btn = '/html/body/div[1]/div[4]/main/div[2]/div[2]/div/div/div/div/div/div[4]/div[1]/div/div/div[3]/div/ng-transclude/div/dashboards.core.layout-engine/div/div/div/div/div/div[14]/div/div/div/div/div/div/div[2]/div/div/div/div[1]/h3/div/div[2]/div/div/button/div[1]'\n",
    "\n",
    "found = False\n",
    "for i in range(50):\n",
    "    try:\n",
    "        element = driver.find_element(By.XPATH, xpath_btn)\n",
    "        driver.execute_script(\"arguments[0].scrollIntoView(true);\", element)\n",
    "\n",
    "        # Espera até estar clicável\n",
    "        element = WebDriverWait(driver, 5).until(\n",
    "            EC.element_to_be_clickable((By.XPATH, xpath_btn))\n",
    "        )\n",
    "\n",
    "        driver.execute_script(\"arguments[0].click();\", element)\n",
    "        found = True\n",
    "        break\n",
    "\n",
    "    except (NoSuchElementException, TimeoutException):\n",
    "        driver.execute_script(\"document.scrollingElement.scrollBy(0, 600);\")\n",
    "        time.sleep(1)\n",
    "\n",
    "if not found:\n",
    "    raise Exception(\"❌ Elemento não encontrado após 50 tentativas\")\n"
   ]
  },
  {
   "cell_type": "code",
   "execution_count": 75,
   "id": "051155dd",
   "metadata": {},
   "outputs": [
    {
     "name": "stdout",
     "output_type": "stream",
     "text": [
      "6\n"
     ]
    }
   ],
   "source": [
    "\n",
    "qtd_feedback  = WebDriverWait(driver, 15).until(EC.presence_of_element_located((By.XPATH, \"/html/body/div[1]/div[5]/main/div[2]/div[2]/div/div/div/div/div/div[4]/div[1]/div/div/div[3]/div/ng-transclude/div/dashboards.core.layout-engine/div/div/div/div/div/div[14]/div/div/div/div/div/div/div[2]/div/div/div/div[1]/h3/div/div[2]/div/div/button/div[2]\")))\n",
    "qtd_feedback = qtd_feedback.text\n",
    "print(qtd_feedback.strip())\n"
   ]
  },
  {
   "cell_type": "code",
   "execution_count": 78,
   "id": "a7aca268",
   "metadata": {},
   "outputs": [
    {
     "name": "stdout",
     "output_type": "stream",
     "text": [
      "Número: 0 | Label: Resposta: 1. DAC. PORTO ALEGRE. há 21 horas. A atendente não foi capaz de resolver minha solicitação como se não soubesse e não é a primeira vez que necessito de um atendimento e a um problema e os atendentes não sabem resolver. \n",
      "Cliquei no menu da resposta 0\n",
      "Cliquei em 'Ver registo completo' da resposta 0\n",
      "Número: 10 | Label: Resposta: 2. 10. DAC. FLORIANOPOLIS. há um dia. A boa atenção prestada\n",
      "Cliquei no menu da resposta 10\n",
      "Cliquei em 'Ver registo completo' da resposta 10\n",
      "Número: 6 | Label: Resposta: 3. 6. DAC. SERRA. há um dia. Muito defeito. Rede instável.  Teste de desligar roteador é ridículo.  Ja perdi a conta da quantidade de vezes que já fiz isto.\n",
      "Cliquei no menu da resposta 6\n",
      "Cliquei em 'Ver registo completo' da resposta 6\n",
      "Número: 10 | Label: Resposta: 4. 10. DAC. GOIANIA. há um dia\n",
      "Cliquei no menu da resposta 10\n",
      "Cliquei em 'Ver registo completo' da resposta 10\n",
      "Número: 6 | Label: Resposta: 5. 6. DAC. RIO DE JANEIRO. há um dia. dificuldade em falar diretamente com um funcionario capaz de dar resposta para o problema\n",
      "Cliquei no menu da resposta 6\n",
      "Cliquei em 'Ver registo completo' da resposta 6\n",
      "Número: 5 | Label: Resposta: 6. 5. DAC. SAO PAULO. há 2 dias\n",
      "Cliquei no menu da resposta 5\n",
      "Cliquei em 'Ver registo completo' da resposta 5\n"
     ]
    }
   ],
   "source": [
    "\n",
    "# Espera até que todas as respostas estejam carregadas\n",
    "respostas = WebDriverWait(driver, 15).until(\n",
    "    EC.presence_of_all_elements_located((By.CSS_SELECTOR, \"div.styles__response___\\\\+0-OI\"))\n",
    ")\n",
    "\n",
    "for resposta in respostas:\n",
    "    # Pega o aria-label da resposta\n",
    "    aria_label = resposta.get_attribute(\"aria-label\")\n",
    "    \n",
    "    # Pega o número da resposta\n",
    "    numero = resposta.find_element(By.CSS_SELECTOR, \"div.styles__ticker-content___vHHyl\").text.strip()\n",
    "    print(f\"Número: {numero} | Label: {aria_label}\")\n",
    "\n",
    "    try:\n",
    "        # Encontra o botão 'Menu' dentro desta resposta\n",
    "        vizualizar_btn = resposta.find_element(By.CSS_SELECTOR, \"button[aria-label='Menu']\")\n",
    "        \n",
    "        # Scroll até o botão (evita problemas de overlay)\n",
    "        driver.execute_script(\"arguments[0].scrollIntoView({block: 'center'});\", vizualizar_btn)\n",
    "        \n",
    "        # Espera até que o botão esteja clicável\n",
    "        WebDriverWait(driver, 5).until(EC.element_to_be_clickable(vizualizar_btn))\n",
    "        \n",
    "        # Clica no botão usando Selenium normal (ou JS se ainda tiver problema)\n",
    "        vizualizar_btn.click()\n",
    "\n",
    "        print(f\"Cliquei no menu da resposta {numero}\")\n",
    "\n",
    "\n",
    "                # Agora espera e clica na opção 'Ver registo completo'\n",
    "        ver_registro = WebDriverWait(driver, 5).until(\n",
    "            EC.element_to_be_clickable((By.XPATH, \".//span[text()='Ver registo completo']\"))\n",
    "        )\n",
    "        ver_registro.click()\n",
    "        time.sleep(10)\n",
    "        # Agora espera e clica na opção 'Ver registo completo'\n",
    "        fechar_registro = WebDriverWait(driver, 5).until(\n",
    "            EC.element_to_be_clickable((By.XPATH, \"/html/body/div[90]/div[1]/div/div/div[3]/button\"))\n",
    "        )\n",
    "        fechar_registro.click()\n",
    "        print(f\"Cliquei em 'Ver registo completo' da resposta {numero}\")\n",
    "        \n",
    "\n",
    "\n",
    "    except Exception as e:\n",
    "        print(f\"Não consegui clicar no menu da resposta {numero}: {e}\")\n"
   ]
  }
 ],
 "metadata": {
  "kernelspec": {
   "display_name": ".venv",
   "language": "python",
   "name": "python3"
  },
  "language_info": {
   "codemirror_mode": {
    "name": "ipython",
    "version": 3
   },
   "file_extension": ".py",
   "mimetype": "text/x-python",
   "name": "python",
   "nbconvert_exporter": "python",
   "pygments_lexer": "ipython3",
   "version": "3.12.2"
  }
 },
 "nbformat": 4,
 "nbformat_minor": 5
}

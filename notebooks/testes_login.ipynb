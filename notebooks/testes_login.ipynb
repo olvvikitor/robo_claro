{
 "cells": [
  {
   "cell_type": "code",
   "execution_count": 1,
   "id": "717c4657",
   "metadata": {},
   "outputs": [],
   "source": [
    "from selenium import webdriver\n",
    "from selenium.webdriver.common.by import By\n",
    "from selenium.webdriver.chrome.options import Options\n",
    "from selenium.webdriver.support.ui import WebDriverWait\n",
    "from selenium.webdriver.support import expected_conditions as EC\n",
    "from selenium.webdriver import ActionChains\n",
    "from selenium.common.exceptions import NoSuchElementException, TimeoutException\n",
    "from selenium.webdriver.common.keys import Keys\n",
    "import pandas as pd\n",
    "\n",
    "\n",
    "import time\n",
    "\n"
   ]
  },
  {
   "cell_type": "code",
   "execution_count": 2,
   "id": "7d5e025c",
   "metadata": {},
   "outputs": [],
   "source": [
    "options = Options()\n",
    "options.add_argument('--start-maximized')\n",
    "driver = webdriver.Chrome(options=options)\n",
    "driver.get('https://claro.qualtrics.com/Q/MyProjectsSection')\n"
   ]
  },
  {
   "cell_type": "code",
   "execution_count": 3,
   "id": "2264b624",
   "metadata": {},
   "outputs": [],
   "source": [
    "# Preenche login\n",
    "driver.find_element(By.ID, 'username').send_keys('93239859')\n",
    "driver.find_element(By.ID, 'password').send_keys('N1nh@*25')\n",
    "driver.find_element(By.ID, \"signOnButton\").click()"
   ]
  },
  {
   "cell_type": "code",
   "execution_count": 4,
   "id": "72e04584",
   "metadata": {},
   "outputs": [],
   "source": [
    "logado = False\n",
    "while not logado:\n",
    "    try:\n",
    "        elemento = WebDriverWait(driver, 5).until(EC.presence_of_element_located((By.ID, \"Projetos e programas\")))\n",
    "        logado = True\n",
    "    except:\n",
    "        pin = elemento = WebDriverWait(driver, 15).until(EC.presence_of_element_located((By.XPATH, \"/html/body/div/div/div[1]/div/div[2]/div[3]\")))\n",
    "        pin = pin.text.strip()  \n",
    "\n"
   ]
  },
  {
   "cell_type": "code",
   "execution_count": 5,
   "id": "d52c1711",
   "metadata": {},
   "outputs": [],
   "source": [
    "driver.get('https://claro.qualtrics.com/reporting-dashboard/web/6616d90f5c152200082e2233/pages/Page_4bccad9e-f0d7-4265-8a8c-22b831245106/view')\n"
   ]
  },
  {
   "cell_type": "code",
   "execution_count": 6,
   "id": "bef86c81",
   "metadata": {},
   "outputs": [],
   "source": [
    "filtroEps = WebDriverWait(driver, 60).until(EC.presence_of_element_located((By.XPATH, '/html/body/div[1]/div[4]/main/div[2]/div[1]/div[1]/div[1]/div/div/div/ul/li[2]/span/span/span[2]/span[15]/span/div/div/div/div/div/div/div/div/div/span/button/span[2]')))\n",
    "filtroEps.click()\n",
    "TEL_CENTRO = 'sub0_23'\n",
    "TEL_TELEMATICA = 'sub0_24'\n",
    "TELEMATICA_FEIRADESATANA_DACO1 = 'sub0_25'\n",
    "\n",
    "tel_centro = WebDriverWait(driver, 60).until(\n",
    "    EC.element_to_be_clickable(\n",
    "        (By.XPATH, \"//a[contains(., 'TEL CENTRO')]\")\n",
    "    )\n",
    ")\n",
    "tel_centro.click()\n",
    "\n",
    "tel_telematica = WebDriverWait(driver, 60).until(\n",
    "    EC.element_to_be_clickable(\n",
    "        (By.XPATH, \"//a[contains(., 'TEL TELEMATICA')]\")\n",
    "    )\n",
    ")\n",
    "tel_telematica.click()\n",
    "\n",
    "tel_telematicadac01 = WebDriverWait(driver, 60).until(\n",
    "    EC.element_to_be_clickable(\n",
    "        (By.XPATH, \"//a[contains(., 'TELEMATICA|FEIRADESANTANA|DAC01')]\")\n",
    "    )\n",
    ")\n",
    "tel_telematicadac01.click()\n",
    "\n",
    "\n",
    "\n",
    "\n"
   ]
  },
  {
   "cell_type": "code",
   "execution_count": 9,
   "id": "a6437c86",
   "metadata": {},
   "outputs": [],
   "source": [
    "filtroPeriodo = WebDriverWait(driver, 60).until(EC.presence_of_element_located((By.XPATH, '/html/body/div[1]/div[4]/main/div[2]/div[1]/div[1]/div[1]/div/div/div/ul/li[2]/span/span/span[2]/span[2]/span/div/div/span/button/span[2]')))\n",
    "filtroPeriodo.click()\n",
    "\n",
    "botao_periodo = WebDriverWait(driver, 10).until(\n",
    "    EC.element_to_be_clickable(\n",
    "        (By.XPATH, \"//button[@aria-label='Data Resposta seleção Este mês']\")\n",
    "    )\n",
    ")\n",
    "botao_periodo.click()\n",
    "\n",
    "periodoUltimos7Dias = WebDriverWait(driver, 60).until(EC.presence_of_element_located((By.ID, 'sub0_3')))\n",
    "\n",
    "periodoUltimos7Dias.click()\n"
   ]
  },
  {
   "cell_type": "code",
   "execution_count": 20,
   "id": "00fceb42",
   "metadata": {},
   "outputs": [],
   "source": [
    "xpath_btn = '/html/body/div[1]/div[4]/main/div[2]/div[2]/div/div/div/div/div/div[4]/div[1]/div/div/div[3]/div/ng-transclude/div/dashboards.core.layout-engine/div/div/div/div/div/div[14]/div/div/div/div/div/div/div[2]/div/div/div/div[1]/h3/div/div[2]/div/div/button/div[1]'\n",
    "\n",
    "found = False\n",
    "for i in range(50):\n",
    "    try:\n",
    "        element = driver.find_element(By.XPATH, xpath_btn)\n",
    "        driver.execute_script(\"arguments[0].scrollIntoView(true);\", element)\n",
    "\n",
    "        # Espera até estar clicável\n",
    "        element = WebDriverWait(driver, 5).until(\n",
    "            EC.element_to_be_clickable((By.XPATH, xpath_btn))\n",
    "        )\n",
    "\n",
    "        driver.execute_script(\"arguments[0].click();\", element)\n",
    "        found = True\n",
    "        break\n",
    "\n",
    "    except (NoSuchElementException, TimeoutException):\n",
    "        driver.execute_script(\"document.scrollingElement.scrollBy(0, 600);\")\n",
    "        time.sleep(1)\n",
    "\n",
    "if not found:\n",
    "    raise Exception(\"❌ Elemento não encontrado após 50 tentativas\")\n"
   ]
  },
  {
   "cell_type": "code",
   "execution_count": 21,
   "id": "051155dd",
   "metadata": {},
   "outputs": [
    {
     "name": "stdout",
     "output_type": "stream",
     "text": [
      "12\n"
     ]
    }
   ],
   "source": [
    "\n",
    "qtd_feedback  = WebDriverWait(driver, 15).until(EC.presence_of_element_located((By.XPATH, \"/html/body/div[1]/div[5]/main/div[2]/div[2]/div/div/div/div/div/div[4]/div[1]/div/div/div[3]/div/ng-transclude/div/dashboards.core.layout-engine/div/div/div/div/div/div[14]/div/div/div/div/div/div/div[2]/div/div/div/div[1]/h3/div/div[2]/div/div/button/div[2]\")))\n",
    "qtd_feedback = qtd_feedback.text\n",
    "print(qtd_feedback.strip())\n"
   ]
  },
  {
   "cell_type": "code",
   "execution_count": 35,
   "id": "a7aca268",
   "metadata": {},
   "outputs": [
    {
     "name": "stdout",
     "output_type": "stream",
     "text": [
      "Número: 0 | Label: Resposta: 1. DAC. RIO DE JANEIRO. há 17 horas. Liguei fiquei mais de 25 minutos em ligação para não ter solução,  eu quero um cancelamento , fiz todas autenticações,  sms, para no final ser informado que houve erro no sistema da Claro que tudo foi perdido e que só posso pedir o cancelamento daqui a 3 dias, um horror , estou profundamente chateado e insatisfeito\n",
      "Cliquei no menu da resposta 0\n",
      "Fechei o registro da resposta 0\n",
      "Número: 3 | Label: Resposta: 2. 3. DAC. MANAUS. há 18 horas\n",
      "Cliquei no menu da resposta 3\n",
      "Fechei o registro da resposta 3\n",
      "Número: 10 | Label: Resposta: 3. 10. DAC. RECIFE. há 19 horas. Bom atendimento \n",
      "Cliquei no menu da resposta 10\n",
      "Fechei o registro da resposta 10\n",
      "Número: 5 | Label: Resposta: 4. 5. DAC. CAPAO DA CANOA. há 20 horas. dificuldade de resolver o problema por telefone\n",
      "Cliquei no menu da resposta 5\n",
      "Fechei o registro da resposta 5\n",
      "Número: 1 | Label: Resposta: 5. 1. DAC. PINDAMONHANGABA. há 21 horas. Estou tentando há tempos resolver o problema da falta de sinal da minha TV. primeira vez o plano foi cancelado erroneamente no sistema. Contratei novo plano por orientação da atendente. Agora, sem TV novamente e nem na central, nem no app ou site consigo marcar vista técnica e resolver a situação.\n",
      "Cliquei no menu da resposta 1\n",
      "Fechei o registro da resposta 1\n",
      "Número: 0 | Label: Resposta: 6. DAC. SAO PAULO. há um dia. estou ha 27 horas sem internet e perdendo vendas\n",
      "Cliquei no menu da resposta 0\n",
      "Fechei o registro da resposta 0\n",
      "Número: 10 | Label: Resposta: 7. 10. DAC. RIO DE JANEIRO. há um dia. Um bom atendimento por parte da pessoa que falou comigo; paciente, solícita educada.\n",
      "Cliquei no menu da resposta 10\n",
      "Fechei o registro da resposta 10\n",
      "Número: 0 | Label: Resposta: 8. DAC. CUIABA. há um dia. SINAL SEMPRE OSCILANDO\n",
      "Cliquei no menu da resposta 0\n",
      "Fechei o registro da resposta 0\n",
      "Número: 7 | Label: Resposta: 9. 7. DAC. SAO BERNARDO DO CAMPO. há um dia\n",
      "Cliquei no menu da resposta 7\n",
      "Fechei o registro da resposta 7\n",
      "Número: 8 | Label: Resposta: 10. 8. DAC. RECIFE. há um dia. a demora no atendimento\n",
      "Cliquei no menu da resposta 8\n",
      "Fechei o registro da resposta 8\n",
      "Número: 3 | Label: Resposta: 11. 3. DAC. RIO DE JANEIRO. há um dia. Desinformação, falta de conhecimento ao tratamento com o cliente.\n",
      "Cliquei no menu da resposta 3\n",
      "Fechei o registro da resposta 3\n",
      "Número: 0 | Label: Resposta: 12. DAC. RIO DE JANEIRO. há um dia. A Claro não funciona! Liguei quatro vezes e as primeiras ligações depois de 20 minutos ao atendente não me ouvia e na quarta a pessoa me ouvia mas o sistema não abria \n",
      "Cliquei no menu da resposta 0\n",
      "Fechei o registro da resposta 0\n",
      "Arquivo 'respostas.xlsx' salvo com sucesso!\n"
     ]
    }
   ],
   "source": [
    "import pandas as pd\n",
    "\n",
    "todos_dados = []  # cada item será um registro de uma resposta\n",
    "\n",
    "respostas = WebDriverWait(driver, 15).until(\n",
    "    EC.presence_of_all_elements_located((By.CSS_SELECTOR, \"div.styles__response___\\\\+0-OI\"))\n",
    ")\n",
    "\n",
    "for resposta in respostas:\n",
    "    numero = resposta.find_element(By.CSS_SELECTOR, \"div.styles__ticker-content___vHHyl\").text.strip()\n",
    "    aria_label = resposta.get_attribute(\"aria-label\")\n",
    "    print(f\"Número: {numero} | Label: {aria_label}\")\n",
    "\n",
    "    try:\n",
    "        # Localiza o botão de menu\n",
    "        menu_btn = resposta.find_element(By.CSS_SELECTOR, \"button[aria-label='Menu']\")\n",
    "        driver.execute_script(\"arguments[0].scrollIntoView({block: 'center'});\", menu_btn)\n",
    "        WebDriverWait(driver, 5).until(EC.element_to_be_clickable(menu_btn))\n",
    "        driver.execute_script(\"arguments[0].click();\", menu_btn)\n",
    "        print(f\"Cliquei no menu da resposta {numero}\")\n",
    "\n",
    "        # Clica em \"Ver registo completo\"\n",
    "        ver_registro = WebDriverWait(driver, 10).until(\n",
    "            EC.element_to_be_clickable((By.XPATH, \"//span[text()='Ver registo completo']\"))\n",
    "        )\n",
    "        driver.execute_script(\"arguments[0].click();\", ver_registro)\n",
    "\n",
    "        # Espera o modal abrir\n",
    "        modal = WebDriverWait(driver, 10).until(\n",
    "            EC.presence_of_element_located((By.CSS_SELECTOR, \"div[role='dialog']\"))\n",
    "        )\n",
    "\n",
    "        # Busca o tbody interno relativo ao modal\n",
    "        tbody = WebDriverWait(driver, 10).until(\n",
    "            EC.presence_of_element_located(\n",
    "                (By.XPATH, \".//div[@role='dialog']//table/tbody/tr/td/table/tbody\")\n",
    "            )\n",
    "        )\n",
    "        rows = tbody.find_elements(By.TAG_NAME, \"tr\")\n",
    "\n",
    "        registro = {}  # aqui vamos montar o dict para esta resposta\n",
    "        for row in rows:\n",
    "            cells = row.find_elements(By.TAG_NAME, \"td\")\n",
    "            if len(cells) == 2:\n",
    "                campo = cells[0].text.strip()\n",
    "                valor = cells[1].text.strip()\n",
    "                registro[campo] = valor\n",
    "\n",
    "        # Adiciona também o número e label da resposta\n",
    "        registro[\"Número\"] = numero\n",
    "        registro[\"Label\"] = aria_label\n",
    "\n",
    "        todos_dados.append(registro)\n",
    "\n",
    "        # Fecha o modal\n",
    "        fechar_btn = WebDriverWait(driver, 10).until(\n",
    "            EC.element_to_be_clickable((By.XPATH, \"//button[normalize-space()='Fechar' or text()='×']\"))\n",
    "        )\n",
    "        fechar_btn.click()\n",
    "        print(f\"Fechei o registro da resposta {numero}\")\n",
    "\n",
    "    except Exception as e:\n",
    "        print(f\"Não consegui processar a resposta {numero}: {e}\")\n",
    "\n",
    "# Depois de processar todos os modais, monta o DataFrame\n",
    "df_final = pd.DataFrame(todos_dados)\n",
    "df_final.to_excel(\"respostas.xlsx\", index=False, engine='openpyxl')\n",
    "print(\"Arquivo 'respostas.xlsx' salvo com sucesso!\")\n"
   ]
  },
  {
   "cell_type": "code",
   "execution_count": 34,
   "id": "4a5fb40b",
   "metadata": {},
   "outputs": [
    {
     "ename": "TypeError",
     "evalue": "cannot concatenate object of type '<class 'dict'>'; only Series and DataFrame objs are valid",
     "output_type": "error",
     "traceback": [
      "\u001b[31m---------------------------------------------------------------------------\u001b[39m",
      "\u001b[31mTypeError\u001b[39m                                 Traceback (most recent call last)",
      "\u001b[36mCell\u001b[39m\u001b[36m \u001b[39m\u001b[32mIn[34]\u001b[39m\u001b[32m, line 2\u001b[39m\n\u001b[32m      1\u001b[39m \u001b[38;5;66;03m# Depois de processar todos os modais\u001b[39;00m\n\u001b[32m----> \u001b[39m\u001b[32m2\u001b[39m df_final = \u001b[43mpd\u001b[49m\u001b[43m.\u001b[49m\u001b[43mconcat\u001b[49m\u001b[43m(\u001b[49m\u001b[43mdata\u001b[49m\u001b[43m,\u001b[49m\u001b[43m \u001b[49m\u001b[43mignore_index\u001b[49m\u001b[43m=\u001b[49m\u001b[38;5;28;43;01mTrue\u001b[39;49;00m\u001b[43m,\u001b[49m\u001b[43m \u001b[49m\u001b[43msort\u001b[49m\u001b[43m=\u001b[49m\u001b[38;5;28;43;01mFalse\u001b[39;49;00m\u001b[43m)\u001b[49m\n\u001b[32m      3\u001b[39m df_final.to_excel(\u001b[33m\"\u001b[39m\u001b[33mrespostas.xlsx\u001b[39m\u001b[33m\"\u001b[39m, index=\u001b[38;5;28;01mFalse\u001b[39;00m, engine=\u001b[33m'\u001b[39m\u001b[33mopenpyxl\u001b[39m\u001b[33m'\u001b[39m)\n",
      "\u001b[36mFile \u001b[39m\u001b[32md:\\robos\\claro\\.venv\\Lib\\site-packages\\pandas\\core\\reshape\\concat.py:382\u001b[39m, in \u001b[36mconcat\u001b[39m\u001b[34m(objs, axis, join, ignore_index, keys, levels, names, verify_integrity, sort, copy)\u001b[39m\n\u001b[32m    379\u001b[39m \u001b[38;5;28;01melif\u001b[39;00m copy \u001b[38;5;129;01mand\u001b[39;00m using_copy_on_write():\n\u001b[32m    380\u001b[39m     copy = \u001b[38;5;28;01mFalse\u001b[39;00m\n\u001b[32m--> \u001b[39m\u001b[32m382\u001b[39m op = \u001b[43m_Concatenator\u001b[49m\u001b[43m(\u001b[49m\n\u001b[32m    383\u001b[39m \u001b[43m    \u001b[49m\u001b[43mobjs\u001b[49m\u001b[43m,\u001b[49m\n\u001b[32m    384\u001b[39m \u001b[43m    \u001b[49m\u001b[43maxis\u001b[49m\u001b[43m=\u001b[49m\u001b[43maxis\u001b[49m\u001b[43m,\u001b[49m\n\u001b[32m    385\u001b[39m \u001b[43m    \u001b[49m\u001b[43mignore_index\u001b[49m\u001b[43m=\u001b[49m\u001b[43mignore_index\u001b[49m\u001b[43m,\u001b[49m\n\u001b[32m    386\u001b[39m \u001b[43m    \u001b[49m\u001b[43mjoin\u001b[49m\u001b[43m=\u001b[49m\u001b[43mjoin\u001b[49m\u001b[43m,\u001b[49m\n\u001b[32m    387\u001b[39m \u001b[43m    \u001b[49m\u001b[43mkeys\u001b[49m\u001b[43m=\u001b[49m\u001b[43mkeys\u001b[49m\u001b[43m,\u001b[49m\n\u001b[32m    388\u001b[39m \u001b[43m    \u001b[49m\u001b[43mlevels\u001b[49m\u001b[43m=\u001b[49m\u001b[43mlevels\u001b[49m\u001b[43m,\u001b[49m\n\u001b[32m    389\u001b[39m \u001b[43m    \u001b[49m\u001b[43mnames\u001b[49m\u001b[43m=\u001b[49m\u001b[43mnames\u001b[49m\u001b[43m,\u001b[49m\n\u001b[32m    390\u001b[39m \u001b[43m    \u001b[49m\u001b[43mverify_integrity\u001b[49m\u001b[43m=\u001b[49m\u001b[43mverify_integrity\u001b[49m\u001b[43m,\u001b[49m\n\u001b[32m    391\u001b[39m \u001b[43m    \u001b[49m\u001b[43mcopy\u001b[49m\u001b[43m=\u001b[49m\u001b[43mcopy\u001b[49m\u001b[43m,\u001b[49m\n\u001b[32m    392\u001b[39m \u001b[43m    \u001b[49m\u001b[43msort\u001b[49m\u001b[43m=\u001b[49m\u001b[43msort\u001b[49m\u001b[43m,\u001b[49m\n\u001b[32m    393\u001b[39m \u001b[43m\u001b[49m\u001b[43m)\u001b[49m\n\u001b[32m    395\u001b[39m \u001b[38;5;28;01mreturn\u001b[39;00m op.get_result()\n",
      "\u001b[36mFile \u001b[39m\u001b[32md:\\robos\\claro\\.venv\\Lib\\site-packages\\pandas\\core\\reshape\\concat.py:448\u001b[39m, in \u001b[36m_Concatenator.__init__\u001b[39m\u001b[34m(self, objs, axis, join, keys, levels, names, ignore_index, verify_integrity, copy, sort)\u001b[39m\n\u001b[32m    445\u001b[39m objs, keys = \u001b[38;5;28mself\u001b[39m._clean_keys_and_objs(objs, keys)\n\u001b[32m    447\u001b[39m \u001b[38;5;66;03m# figure out what our result ndim is going to be\u001b[39;00m\n\u001b[32m--> \u001b[39m\u001b[32m448\u001b[39m ndims = \u001b[38;5;28;43mself\u001b[39;49m\u001b[43m.\u001b[49m\u001b[43m_get_ndims\u001b[49m\u001b[43m(\u001b[49m\u001b[43mobjs\u001b[49m\u001b[43m)\u001b[49m\n\u001b[32m    449\u001b[39m sample, objs = \u001b[38;5;28mself\u001b[39m._get_sample_object(objs, ndims, keys, names, levels)\n\u001b[32m    451\u001b[39m \u001b[38;5;66;03m# Standardize axis parameter to int\u001b[39;00m\n",
      "\u001b[36mFile \u001b[39m\u001b[32md:\\robos\\claro\\.venv\\Lib\\site-packages\\pandas\\core\\reshape\\concat.py:489\u001b[39m, in \u001b[36m_Concatenator._get_ndims\u001b[39m\u001b[34m(self, objs)\u001b[39m\n\u001b[32m    484\u001b[39m     \u001b[38;5;28;01mif\u001b[39;00m \u001b[38;5;129;01mnot\u001b[39;00m \u001b[38;5;28misinstance\u001b[39m(obj, (ABCSeries, ABCDataFrame)):\n\u001b[32m    485\u001b[39m         msg = (\n\u001b[32m    486\u001b[39m             \u001b[33mf\u001b[39m\u001b[33m\"\u001b[39m\u001b[33mcannot concatenate object of type \u001b[39m\u001b[33m'\u001b[39m\u001b[38;5;132;01m{\u001b[39;00m\u001b[38;5;28mtype\u001b[39m(obj)\u001b[38;5;132;01m}\u001b[39;00m\u001b[33m'\u001b[39m\u001b[33m; \u001b[39m\u001b[33m\"\u001b[39m\n\u001b[32m    487\u001b[39m             \u001b[33m\"\u001b[39m\u001b[33monly Series and DataFrame objs are valid\u001b[39m\u001b[33m\"\u001b[39m\n\u001b[32m    488\u001b[39m         )\n\u001b[32m--> \u001b[39m\u001b[32m489\u001b[39m         \u001b[38;5;28;01mraise\u001b[39;00m \u001b[38;5;167;01mTypeError\u001b[39;00m(msg)\n\u001b[32m    491\u001b[39m     ndims.add(obj.ndim)\n\u001b[32m    492\u001b[39m \u001b[38;5;28;01mreturn\u001b[39;00m ndims\n",
      "\u001b[31mTypeError\u001b[39m: cannot concatenate object of type '<class 'dict'>'; only Series and DataFrame objs are valid"
     ]
    }
   ],
   "source": [
    "# Depois de processar todos os modais\n",
    "df_final = pd.concat(data, ignore_index=True, sort=False)\n",
    "df_final.to_excel(\"respostas.xlsx\", index=False, engine='openpyxl')"
   ]
  },
  {
   "cell_type": "code",
   "execution_count": null,
   "id": "a39d099c",
   "metadata": {},
   "outputs": [],
   "source": [
    "\n"
   ]
  }
 ],
 "metadata": {
  "kernelspec": {
   "display_name": ".venv",
   "language": "python",
   "name": "python3"
  },
  "language_info": {
   "codemirror_mode": {
    "name": "ipython",
    "version": 3
   },
   "file_extension": ".py",
   "mimetype": "text/x-python",
   "name": "python",
   "nbconvert_exporter": "python",
   "pygments_lexer": "ipython3",
   "version": "3.12.2"
  }
 },
 "nbformat": 4,
 "nbformat_minor": 5
}
